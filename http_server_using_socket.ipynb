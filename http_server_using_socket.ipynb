{
 "cells": [
  {
   "cell_type": "markdown",
   "id": "191e926e-25ec-4d0a-9b33-76d29e113f81",
   "metadata": {},
   "source": [
    "# Creating an HTTP server using the Python *socket* module\n",
    "\n",
    "> Find the *socket* module [here.](https://docs.python.org/3/library/socket.html)<br><br>\n",
    "The GitHub repo for this project can be found here: [http_server_using_socket](https://github.com/bensullivan2002/http_server_using_socket.git)\n",
    "\n",
    "## Overview\n",
    "\n",
    "**HTTP** (the **H**yper**T**ext **T**ransfer **P**rotocol) is an application layer protocol, and as such, 'sits on top of' **TCP** (**T**ransmission **C**ontrol **P**rotocol) and **UDP** (**U**ser **D**atagram **P**rotocol) in the transport layer, which in turn 'sit on top of' the **IP** (**I**nternet **P**rotocol) in the **network layer**.<br><br>\n",
    "\n",
    "Sockets provide a method for networked devices to communicate with one another - the sockets can be considered to be the end-points of the communication channel. As such, there needs to be a socket on the server side which listens for incoming communication, and a socket on the client-side which allows the client to 'contact' the server.\n",
    "\n",
    "<p>\n",
    "    At the network and transport layers we are able to select the 'type' of socket we wish to use; the choices (simplified) are as follows:\n",
    "</p>\n",
    "\n",
    "> #### Network Layer\n",
    "> - IPv4 (**AF_INET**)\n",
    "> - IPv6 (**AF_INET6**)\n",
    "> #### Transport Layer\n",
    "> - TCP (**SOCK_STREAM**)\n",
    "> - UDP (**SOCK_DGRAM**)\n",
    "\n",
    "\n",
    "In order to create the basic HTTP server we must first create a TCP server, which the HTTP protocol can then use for its own (higher-level) 'puposes'. Before we do anything else, let's import the *socket* module:"
   ]
  },
  {
   "cell_type": "code",
   "execution_count": 3,
   "id": "b02407d8-afc4-4785-8281-52105a4f0311",
   "metadata": {},
   "outputs": [
    {
     "name": "stdout",
     "output_type": "stream",
     "text": [
      "The history saving thread hit an unexpected error (OperationalError('attempt to write a readonly database')).History will not be written to the database.\n"
     ]
    }
   ],
   "source": [
    "import socket"
   ]
  },
  {
   "cell_type": "markdown",
   "id": "ee575d69-3d08-4cfd-b0f4-5c518e0519d7",
   "metadata": {},
   "source": [
    "Next, we need to configure the 'host' and 'port' to be used by our socket:"
   ]
  },
  {
   "cell_type": "code",
   "execution_count": null,
   "id": "a7160337-c8fd-4ec3-8c19-0f0af9590caf",
   "metadata": {},
   "outputs": [],
   "source": [
    "HOST = '127.0.0.1'\n",
    "PORT = 65432"
   ]
  },
  {
   "cell_type": "markdown",
   "id": "e58302c7-fef4-4e39-b4d5-982cb093af12",
   "metadata": {},
   "source": [
    "Note that we could have used 'localhost' instead of '127.0.0.1' - in our example it would be fine. However, using hostnames instead of IP addresses can be unpredictable because we are relying on a DNS server resolving the hostname to an IP address.<br><br>\n",
    "\n",
    "The chosen port number is an arbitrary (though deliberatly high-numbered) port to avoid using a well-known (system) port.<br><br>\n",
    "\n",
    "Next we will create the socket:"
   ]
  },
  {
   "cell_type": "code",
   "execution_count": null,
   "id": "c43ff8ee-d1d2-4466-8a0e-6a01d1d17eec",
   "metadata": {},
   "outputs": [],
   "source": [
    "with socket.socket(socket.AF_INET, socket.SOCK_STREAM) as s:\n",
    "    s.bind(HOST, PORT)\n",
    "    s.listen(5)"
   ]
  },
  {
   "cell_type": "markdown",
   "id": "4219c772-e58c-4b21-b019-101a2af8cc5a",
   "metadata": {},
   "source": [
    "The code in the cell above creates a TCP socket (socket.SOCK_STREAM) using the IPv4 protocol (socket.AF_INET), then binds the hostname/IP address (HOST) and port number (PORT) to it. The last line starts the socket listening for connection requests from clients and specifies a maximum queue size for incoming requests of 5.<br><br>\n",
    "\n",
    "Note the use of the 'with' statement - this ensures that the connection is closed automatically at the end of the code block rather than having to call socket.close() explicitly.<br><br>\n",
    "\n",
    "Next we will accept a connection from the client socket:"
   ]
  },
  {
   "cell_type": "code",
   "execution_count": null,
   "id": "8ab40a51-4198-4ead-81d0-04949d7db7f9",
   "metadata": {},
   "outputs": [],
   "source": [
    "    conn, addr = s.accept()\n",
    "    with conn:\n",
    "        print(f\"Connected by {addr}\")\n",
    "        while True:\n",
    "            data = conn.recv(1024)\n",
    "            if not data:\n",
    "                break\n",
    "            conn.sendall(data)"
   ]
  },
  {
   "cell_type": "markdown",
   "id": "92a400fa-14e4-490f-989d-fefe19a6ed1d",
   "metadata": {},
   "source": [
    "The block of code above gets the client socket (conn) and the client address (addr) via the socket.accept() metohd. The server prints a message to the terminal to indicate that a connection has been made to the client address, then receives the data (as bytes) from the client."
   ]
  },
  {
   "cell_type": "markdown",
   "id": "d420f39e-f052-4cca-87c2-7059c557f3c3",
   "metadata": {},
   "source": [
    "Now we need to create the client:"
   ]
  },
  {
   "cell_type": "code",
   "execution_count": null,
   "id": "68be1717-d933-439e-a0ac-4de40492e158",
   "metadata": {},
   "outputs": [],
   "source": [
    "HOST = 'localhost'\n",
    "PORT = 65432\n",
    "\n",
    "with socket.socket(socket.AF_INET, socket.SOCK_STREAM) as s:\n",
    "    s.connect((HOST, PORT))\n",
    "    s.sendall(b'Hello, World!')\n",
    "    data = s.recv(1024)\n",
    "\n",
    "print(f\"Received {data!r}\")"
   ]
  },
  {
   "cell_type": "markdown",
   "id": "1f335713-21dd-4b50-8f7a-38e671850573",
   "metadata": {},
   "source": [
    "The first three lines are recognisable from the code to configure the server. Then we create a 'mock' client response to connect to the server, and send the byte object 'Hello, World!'. Once done, a message is printed to the terminal to display the (decoded) data."
   ]
  },
  {
   "cell_type": "markdown",
   "id": "dba991a3-2979-4827-b0f6-88fd02b1aca7",
   "metadata": {},
   "source": [
    "We can run this here by running the cell below:"
   ]
  },
  {
   "cell_type": "code",
   "execution_count": 5,
   "id": "62f00b0e-f4aa-49bb-9d40-2932222ba130",
   "metadata": {},
   "outputs": [
    {
     "name": "stdout",
     "output_type": "stream",
     "text": [
      "Received b'Hello, World!'\n"
     ]
    }
   ],
   "source": [
    "# %load echo-client.py\n",
    "# echo-client.py\n",
    "\n",
    "import socket\n",
    "\n",
    "HOST = 'localhost'\n",
    "PORT = 65432\n",
    "\n",
    "with socket.socket(socket.AF_INET, socket.SOCK_STREAM) as s:\n",
    "    s.connect((HOST, PORT))\n",
    "    s.sendall(b'Hello, World!')\n",
    "    data = s.recv(1024)\n",
    "\n",
    "print(f\"Received {data!r}\")  # Could we also use {data.decode('utf-8') here?\n"
   ]
  },
  {
   "cell_type": "code",
   "execution_count": null,
   "id": "a8254374-266c-416d-aa9e-02a93dc067ef",
   "metadata": {},
   "outputs": [],
   "source": []
  }
 ],
 "metadata": {
  "kernelspec": {
   "display_name": "Python 3 (ipykernel)",
   "language": "python",
   "name": "python3"
  },
  "language_info": {
   "codemirror_mode": {
    "name": "ipython",
    "version": 3
   },
   "file_extension": ".py",
   "mimetype": "text/x-python",
   "name": "python",
   "nbconvert_exporter": "python",
   "pygments_lexer": "ipython3",
   "version": "3.12.3"
  }
 },
 "nbformat": 4,
 "nbformat_minor": 5
}
